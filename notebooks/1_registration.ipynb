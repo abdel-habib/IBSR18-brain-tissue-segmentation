{
 "cells": [
  {
   "cell_type": "code",
   "execution_count": 3,
   "id": "31b225fc-c808-4ba4-80c2-de1cea6f6114",
   "metadata": {},
   "outputs": [],
   "source": [
    "import sys\n",
    "sys.path.append('../')\n",
    "\n",
    "from EM import NiftiManager, Evaluate, EM, ElastixTransformix, FileManager\n",
    "\n",
    "# To allow auto reload to this notebook after modifying any external file imported\n",
    "%load_ext autoreload\n",
    "%autoreload 2"
   ]
  },
  {
   "cell_type": "code",
   "execution_count": 4,
   "id": "aa5e06c0-a603-4a8c-94c0-5f97b202f443",
   "metadata": {},
   "outputs": [],
   "source": [
    "NM    = NiftiManager()\n",
    "EVAL  = Evaluate()\n",
    "ET    = ElastixTransformix()\n",
    "FM    = FileManager()"
   ]
  },
  {
   "cell_type": "code",
   "execution_count": 5,
   "id": "ab4db9c1-50a0-475c-8d5e-13ac4a13a00e",
   "metadata": {},
   "outputs": [],
   "source": [
    "train_path = 'TrainingValidationTestSets/Training_Set'\n",
    "valid_path = 'TrainingValidationTestSets/Validation_Set'\n",
    "test_path  = 'TrainingValidationTestSets/Test_Set'"
   ]
  },
  {
   "cell_type": "code",
   "execution_count": null,
   "id": "d2b93c11-84bb-4de5-b12d-00081e6df1a6",
   "metadata": {},
   "outputs": [],
   "source": [
    "\n",
    "test_volumes = sorted(glob(os.path.join(test_path, \"*.nii.gz\"), recursive=True))\n",
    "test_labels = sorted(glob(os.path.join(test_labels_path, \"*.nii.gz\"), recursive=True))\n",
    "test_masks = sorted(glob(os.path.join(test_masks_path, \"*.nii.gz\"), recursive=True))\n"
   ]
  }
 ],
 "metadata": {
  "kernelspec": {
   "display_name": "Python 3 (ipykernel)",
   "language": "python",
   "name": "python3"
  },
  "language_info": {
   "codemirror_mode": {
    "name": "ipython",
    "version": 3
   },
   "file_extension": ".py",
   "mimetype": "text/x-python",
   "name": "python",
   "nbconvert_exporter": "python",
   "pygments_lexer": "ipython3",
   "version": "3.10.4"
  }
 },
 "nbformat": 4,
 "nbformat_minor": 5
}
