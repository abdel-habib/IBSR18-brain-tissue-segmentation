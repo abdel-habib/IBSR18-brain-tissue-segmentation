{
 "cells": [
  {
   "cell_type": "code",
   "execution_count": null,
   "metadata": {},
   "outputs": [],
   "source": [
    "! git clone https://github.com/MIC-DKFZ/nnUNet.git"
   ]
  },
  {
   "cell_type": "code",
   "execution_count": 1,
   "metadata": {},
   "outputs": [],
   "source": [
    "import os"
   ]
  },
  {
   "cell_type": "code",
   "execution_count": 2,
   "metadata": {},
   "outputs": [
    {
     "name": "stdout",
     "output_type": "stream",
     "text": [
      "Thu Nov 30 15:04:43 2023       \n",
      "+---------------------------------------------------------------------------------------+\n",
      "| NVIDIA-SMI 535.129.03             Driver Version: 535.129.03   CUDA Version: 12.2     |\n",
      "|-----------------------------------------+----------------------+----------------------+\n",
      "| GPU  Name                 Persistence-M | Bus-Id        Disp.A | Volatile Uncorr. ECC |\n",
      "| Fan  Temp   Perf          Pwr:Usage/Cap |         Memory-Usage | GPU-Util  Compute M. |\n",
      "|                                         |                      |               MIG M. |\n",
      "|=========================================+======================+======================|\n",
      "|   0  NVIDIA GeForce GTX 1050 Ti     Off | 00000000:01:00.0 Off |                  N/A |\n",
      "| N/A   46C    P8              N/A / ERR! |      6MiB /  4096MiB |      0%      Default |\n",
      "|                                         |                      |                  N/A |\n",
      "+-----------------------------------------+----------------------+----------------------+\n",
      "                                                                                         \n",
      "+---------------------------------------------------------------------------------------+\n",
      "| Processes:                                                                            |\n",
      "|  GPU   GI   CI        PID   Type   Process name                            GPU Memory |\n",
      "|        ID   ID                                                             Usage      |\n",
      "|=======================================================================================|\n",
      "|    0   N/A  N/A      2248      G   /usr/lib/xorg/Xorg                            4MiB |\n",
      "|    0   N/A  N/A      2536      G   ...libexec/gnome-remote-desktop-daemon        1MiB |\n",
      "+---------------------------------------------------------------------------------------+\n"
     ]
    }
   ],
   "source": [
    "! nvidia-smi\n"
   ]
  },
  {
   "cell_type": "markdown",
   "metadata": {},
   "source": [
    "## nnUNet_raw should exists since it is on the github\n",
    "### Create Manually the other two folders the results and preprocessed"
   ]
  },
  {
   "cell_type": "code",
   "execution_count": 3,
   "metadata": {},
   "outputs": [],
   "source": [
    "base_dir = os.getcwd()\n",
    "nnUNet_raw = os.path.join(base_dir,'nnUNet_raw')\n",
    "nnUNet_preprocessed = os.path.join(base_dir,'nnUNet_preprocessed')\n",
    "results_folder = os.path.join(base_dir,'nnUNet_results')"
   ]
  },
  {
   "cell_type": "code",
   "execution_count": 4,
   "metadata": {},
   "outputs": [
    {
     "name": "stdout",
     "output_type": "stream",
     "text": [
      "/home/edalita/Documents/MAIA/3-Semestre/MIRMISAProject/IBSR18-tissue-segmentation/nnUNet_raw\n"
     ]
    }
   ],
   "source": [
    "print(nnUNet_raw) #Check the directory address is correct"
   ]
  },
  {
   "cell_type": "code",
   "execution_count": 5,
   "metadata": {},
   "outputs": [],
   "source": [
    "os.environ[\"nnUNet_raw\"] = str(nnUNet_raw)\n",
    "os.environ[\"nnUNet_preprocessed\"] = str(nnUNet_preprocessed)\n",
    "os.environ[\"nnUNet_results\"] = str(results_folder)"
   ]
  },
  {
   "cell_type": "markdown",
   "metadata": {},
   "source": [
    "## Checking the data and preparing for the trainning"
   ]
  },
  {
   "cell_type": "code",
   "execution_count": 6,
   "metadata": {},
   "outputs": [
    {
     "name": "stdout",
     "output_type": "stream",
     "text": [
      "Fingerprint extraction...\n",
      "Dataset975_BrainSegmentation\n",
      "Using <class 'nnunetv2.imageio.simpleitk_reader_writer.SimpleITKIO'> reader/writer\n",
      "\n",
      "####################\n",
      "verify_dataset_integrity Done. \n",
      "If you didn't see any error messages then your dataset is most likely OK!\n",
      "####################\n",
      "\n",
      "Experiment planning...\n",
      "2D U-Net configuration:\n",
      "{'data_identifier': 'nnUNetPlans_2d', 'preprocessor_name': 'DefaultPreprocessor', 'batch_size': 69, 'patch_size': array([160, 160]), 'median_image_size_in_voxels': array([139., 147.]), 'spacing': array([0.9375, 0.9375]), 'normalization_schemes': ['ZScoreNormalization'], 'use_mask_for_norm': [True], 'UNet_class_name': 'PlainConvUNet', 'UNet_base_num_features': 32, 'n_conv_per_stage_encoder': (2, 2, 2, 2, 2, 2), 'n_conv_per_stage_decoder': (2, 2, 2, 2, 2), 'num_pool_per_axis': [5, 5], 'pool_op_kernel_sizes': [[1, 1], [2, 2], [2, 2], [2, 2], [2, 2], [2, 2]], 'conv_kernel_sizes': [[3, 3], [3, 3], [3, 3], [3, 3], [3, 3], [3, 3]], 'unet_max_num_features': 512, 'resampling_fn_data': 'resample_data_or_seg_to_shape', 'resampling_fn_seg': 'resample_data_or_seg_to_shape', 'resampling_fn_data_kwargs': {'is_seg': False, 'order': 3, 'order_z': 0, 'force_separate_z': None}, 'resampling_fn_seg_kwargs': {'is_seg': True, 'order': 1, 'order_z': 0, 'force_separate_z': None}, 'resampling_fn_probabilities': 'resample_data_or_seg_to_shape', 'resampling_fn_probabilities_kwargs': {'is_seg': False, 'order': 1, 'order_z': 0, 'force_separate_z': None}, 'batch_dice': True}\n",
      "\n",
      "Using <class 'nnunetv2.imageio.simpleitk_reader_writer.SimpleITKIO'> reader/writer\n",
      "3D fullres U-Net configuration:\n",
      "{'data_identifier': 'nnUNetPlans_3d_fullres', 'preprocessor_name': 'DefaultPreprocessor', 'batch_size': 2, 'patch_size': array([112, 128, 160]), 'median_image_size_in_voxels': array([115., 139., 147.]), 'spacing': array([1.5   , 0.9375, 0.9375]), 'normalization_schemes': ['ZScoreNormalization'], 'use_mask_for_norm': [True], 'UNet_class_name': 'PlainConvUNet', 'UNet_base_num_features': 32, 'n_conv_per_stage_encoder': (2, 2, 2, 2, 2, 2), 'n_conv_per_stage_decoder': (2, 2, 2, 2, 2), 'num_pool_per_axis': [4, 5, 5], 'pool_op_kernel_sizes': [[1, 1, 1], [2, 2, 2], [2, 2, 2], [2, 2, 2], [2, 2, 2], [1, 2, 2]], 'conv_kernel_sizes': [[3, 3, 3], [3, 3, 3], [3, 3, 3], [3, 3, 3], [3, 3, 3], [3, 3, 3]], 'unet_max_num_features': 320, 'resampling_fn_data': 'resample_data_or_seg_to_shape', 'resampling_fn_seg': 'resample_data_or_seg_to_shape', 'resampling_fn_data_kwargs': {'is_seg': False, 'order': 3, 'order_z': 0, 'force_separate_z': None}, 'resampling_fn_seg_kwargs': {'is_seg': True, 'order': 1, 'order_z': 0, 'force_separate_z': None}, 'resampling_fn_probabilities': 'resample_data_or_seg_to_shape', 'resampling_fn_probabilities_kwargs': {'is_seg': False, 'order': 1, 'order_z': 0, 'force_separate_z': None}, 'batch_dice': False}\n",
      "\n",
      "Plans were saved to /home/edalita/Documents/MAIA/3-Semestre/MIRMISAProject/IBSR18-tissue-segmentation/nnUNet_preprocessed/Dataset975_BrainSegmentation/nnUNetPlans.json\n",
      "Preprocessing...\n",
      "Preprocessing dataset Dataset975_BrainSegmentation\n",
      "Configuration: 2d...\n",
      "100%|███████████████████████████████████████████| 15/15 [00:18<00:00,  1.21s/it]\n",
      "Configuration: 3d_fullres...\n",
      "100%|███████████████████████████████████████████| 15/15 [00:29<00:00,  1.99s/it]\n",
      "Configuration: 3d_lowres...\n",
      "INFO: Configuration 3d_lowres not found in plans file nnUNetPlans.json of dataset Dataset975_BrainSegmentation. Skipping.\n"
     ]
    }
   ],
   "source": [
    "! nnUNetv2_plan_and_preprocess -d 975 --verify_dataset_integrity"
   ]
  },
  {
   "cell_type": "markdown",
   "metadata": {},
   "source": [
    "## Training\n",
    "- To train - nnUNet_train TRAINER_CLASS_NAME TASK_NAME_OR_ID FOLD\n",
    "- To resume - nnUNet_train TRAINER_CLASS_NAME TASK_NAME_OR_ID FOLD -c (just add -c to the training command)\n",
    "- TRAINER_CLASS_NAME - 2d, 3d_fullres, 3d_lowres, 3d_cascade_fullres\n",
    "- Everything will be stored in the results folder"
   ]
  },
  {
   "cell_type": "code",
   "execution_count": 7,
   "metadata": {},
   "outputs": [
    {
     "name": "stdout",
     "output_type": "stream",
     "text": [
      "usage: nnUNetv2_train [-h] [-tr TR] [-p P]\n",
      "                      [-pretrained_weights PRETRAINED_WEIGHTS]\n",
      "                      [-num_gpus NUM_GPUS] [--use_compressed] [--npz] [--c]\n",
      "                      [--val] [--val_best] [--disable_checkpointing]\n",
      "                      [-device DEVICE]\n",
      "                      dataset_name_or_id configuration fold\n",
      "\n",
      "positional arguments:\n",
      "  dataset_name_or_id    Dataset name or ID to train with\n",
      "  configuration         Configuration that should be trained\n",
      "  fold                  Fold of the 5-fold cross-validation. Should be an int\n",
      "                        between 0 and 4.\n",
      "\n",
      "options:\n",
      "  -h, --help            show this help message and exit\n",
      "  -tr TR                [OPTIONAL] Use this flag to specify a custom trainer.\n",
      "                        Default: nnUNetTrainer\n",
      "  -p P                  [OPTIONAL] Use this flag to specify a custom plans\n",
      "                        identifier. Default: nnUNetPlans\n",
      "  -pretrained_weights PRETRAINED_WEIGHTS\n",
      "                        [OPTIONAL] path to nnU-Net checkpoint file to be used\n",
      "                        as pretrained model. Will only be used when actually\n",
      "                        training. Beta. Use with caution.\n",
      "  -num_gpus NUM_GPUS    Specify the number of GPUs to use for training\n",
      "  --use_compressed      [OPTIONAL] If you set this flag the training cases\n",
      "                        will not be decompressed. Reading compressed data is\n",
      "                        much more CPU and (potentially) RAM intensive and\n",
      "                        should only be used if you know what you are doing\n",
      "  --npz                 [OPTIONAL] Save softmax predictions from final\n",
      "                        validation as npz files (in addition to predicted\n",
      "                        segmentations). Needed for finding the best ensemble.\n",
      "  --c                   [OPTIONAL] Continue training from latest checkpoint\n",
      "  --val                 [OPTIONAL] Set this flag to only run the validation.\n",
      "                        Requires training to have finished.\n",
      "  --val_best            [OPTIONAL] If set, the validation will be performed\n",
      "                        with the checkpoint_best instead of checkpoint_final.\n",
      "                        NOT COMPATIBLE with --disable_checkpointing! WARNING:\n",
      "                        This will use the same 'validation' folder as the\n",
      "                        regular validation with no way of distinguishing the\n",
      "                        two!\n",
      "  --disable_checkpointing\n",
      "                        [OPTIONAL] Set this flag to disable checkpointing.\n",
      "                        Ideal for testing things out and you dont want to\n",
      "                        flood your hard drive with checkpoints.\n",
      "  -device DEVICE        Use this to set the device the training should run\n",
      "                        with. Available options are 'cuda' (GPU), 'cpu' (CPU)\n",
      "                        and 'mps' (Apple M1/M2). Do NOT use this to set which\n",
      "                        GPU ID! Use CUDA_VISIBLE_DEVICES=X nnUNetv2_train\n",
      "                        [...] instead!\n"
     ]
    }
   ],
   "source": [
    "! nnUNetv2_train -h"
   ]
  },
  {
   "cell_type": "code",
   "execution_count": 9,
   "metadata": {},
   "outputs": [
    {
     "name": "stdout",
     "output_type": "stream",
     "text": [
      "Using device: cuda:0\n",
      "\n",
      "#######################################################################\n",
      "Please cite the following paper when using nnU-Net:\n",
      "Isensee, F., Jaeger, P. F., Kohl, S. A., Petersen, J., & Maier-Hein, K. H. (2021). nnU-Net: a self-configuring method for deep learning-based biomedical image segmentation. Nature methods, 18(2), 203-211.\n",
      "#######################################################################\n",
      "\n",
      "WARNING: Cannot continue training because there seems to be no checkpoint available to continue from. Starting a new training...\n",
      "\n",
      "This is the configuration used by this training:\n",
      "Configuration name: 2d\n",
      " {'data_identifier': 'nnUNetPlans_2d', 'preprocessor_name': 'DefaultPreprocessor', 'batch_size': 69, 'patch_size': [160, 160], 'median_image_size_in_voxels': [139.0, 147.0], 'spacing': [0.9375, 0.9375], 'normalization_schemes': ['ZScoreNormalization'], 'use_mask_for_norm': [True], 'UNet_class_name': 'PlainConvUNet', 'UNet_base_num_features': 32, 'n_conv_per_stage_encoder': [2, 2, 2, 2, 2, 2], 'n_conv_per_stage_decoder': [2, 2, 2, 2, 2], 'num_pool_per_axis': [5, 5], 'pool_op_kernel_sizes': [[1, 1], [2, 2], [2, 2], [2, 2], [2, 2], [2, 2]], 'conv_kernel_sizes': [[3, 3], [3, 3], [3, 3], [3, 3], [3, 3], [3, 3]], 'unet_max_num_features': 512, 'resampling_fn_data': 'resample_data_or_seg_to_shape', 'resampling_fn_seg': 'resample_data_or_seg_to_shape', 'resampling_fn_data_kwargs': {'is_seg': False, 'order': 3, 'order_z': 0, 'force_separate_z': None}, 'resampling_fn_seg_kwargs': {'is_seg': True, 'order': 1, 'order_z': 0, 'force_separate_z': None}, 'resampling_fn_probabilities': 'resample_data_or_seg_to_shape', 'resampling_fn_probabilities_kwargs': {'is_seg': False, 'order': 1, 'order_z': 0, 'force_separate_z': None}, 'batch_dice': True} \n",
      "\n",
      "These are the global plan.json settings:\n",
      " {'dataset_name': 'Dataset975_BrainSegmentation', 'plans_name': 'nnUNetPlans', 'original_median_spacing_after_transp': [1.5, 0.9375, 0.9375], 'original_median_shape_after_transp': [115, 136, 143], 'image_reader_writer': 'SimpleITKIO', 'transpose_forward': [1, 0, 2], 'transpose_backward': [1, 0, 2], 'experiment_planner_used': 'ExperimentPlanner', 'label_manager': 'LabelManager', 'foreground_intensity_properties_per_channel': {'0': {'max': 782.0, 'mean': 89.31542205810547, 'median': 67.0, 'min': 0.0, 'percentile_00_5': 0.0, 'percentile_99_5': 602.0, 'std': 100.35749816894531}}} \n",
      "\n",
      "2023-11-30 15:14:44.862870: unpacking dataset...\n",
      "2023-11-30 15:14:49.913439: unpacking done...\n",
      "2023-11-30 15:14:49.913896: do_dummy_2d_data_aug: False\n",
      "2023-11-30 15:14:49.914234: Using splits from existing split file: /home/edalita/Documents/MAIA/3-Semestre/MIRMISAProject/IBSR18-tissue-segmentation/nnUNet_preprocessed/Dataset975_BrainSegmentation/splits_final.json\n",
      "2023-11-30 15:14:49.914379: The split file contains 5 splits.\n",
      "2023-11-30 15:14:49.914438: Desired fold for training: 3\n",
      "2023-11-30 15:14:49.914491: This split has 12 training and 3 validation cases.\n",
      "/home/edalita/Documents/MAIA/3-Semestre/MIRMISAProject/IBSR18-tissue-segmentation/projectMisaMira/lib/python3.10/site-packages/torch/onnx/symbolic_helper.py:1513: UserWarning: ONNX export mode is set to TrainingMode.EVAL, but operator 'instance_norm' is set to train=True. Exporting with train=True.\n",
      "  warnings.warn(\n",
      "2023-11-30 15:14:52.361286: Unable to plot network architecture:\n",
      "2023-11-30 15:14:52.361589: failed to execute PosixPath('dot'), make sure the Graphviz executables are on your systems' PATH\n",
      "2023-11-30 15:14:52.370855: \n",
      "2023-11-30 15:14:52.371065: Epoch 0\n",
      "2023-11-30 15:14:52.371299: Current learning rate: 0.01\n",
      "using pin_memory on device 0\n",
      "using pin_memory on device 0\n",
      "2023-11-30 15:24:23.359181: train_loss -0.2501\n",
      "2023-11-30 15:24:23.359652: val_loss -0.6512\n",
      "2023-11-30 15:24:23.359806: Pseudo dice [0.7985, 0.8954, 0.8835]\n",
      "2023-11-30 15:24:23.360200: Epoch time: 570.99 s\n",
      "2023-11-30 15:24:23.360312: Yayy! New best EMA pseudo Dice: 0.8592\n",
      "2023-11-30 15:24:26.124946: \n",
      "2023-11-30 15:24:26.125160: Epoch 1\n",
      "2023-11-30 15:24:26.125350: Current learning rate: 0.00818\n",
      "2023-11-30 15:33:48.822173: train_loss -0.6316\n",
      "2023-11-30 15:33:48.822732: val_loss -0.7518\n",
      "2023-11-30 15:33:48.822906: Pseudo dice [0.8807, 0.9187, 0.9068]\n",
      "2023-11-30 15:33:48.823050: Epoch time: 562.7 s\n",
      "2023-11-30 15:33:48.823169: Yayy! New best EMA pseudo Dice: 0.8634\n",
      "2023-11-30 15:33:51.835094: \n",
      "2023-11-30 15:33:51.835254: Epoch 2\n",
      "2023-11-30 15:33:51.835392: Current learning rate: 0.00631\n",
      "2023-11-30 15:43:27.634495: train_loss -0.6955\n",
      "2023-11-30 15:43:27.635190: val_loss -0.7819\n",
      "2023-11-30 15:43:27.635318: Pseudo dice [0.8988, 0.926, 0.9176]\n",
      "2023-11-30 15:43:27.635450: Epoch time: 575.8 s\n",
      "2023-11-30 15:43:27.635532: Yayy! New best EMA pseudo Dice: 0.8685\n",
      "2023-11-30 15:43:30.347562: \n",
      "2023-11-30 15:43:30.347789: Epoch 3\n",
      "2023-11-30 15:43:30.348016: Current learning rate: 0.00438\n",
      "2023-11-30 15:53:26.061531: train_loss -0.726\n",
      "2023-11-30 15:53:26.061844: val_loss -0.7962\n",
      "2023-11-30 15:53:26.062036: Pseudo dice [0.9055, 0.9305, 0.9204]\n",
      "2023-11-30 15:53:26.062203: Epoch time: 595.72 s\n",
      "2023-11-30 15:53:26.062336: Yayy! New best EMA pseudo Dice: 0.8735\n",
      "2023-11-30 15:53:30.652359: \n",
      "2023-11-30 15:53:30.652614: Epoch 4\n",
      "2023-11-30 15:53:30.652799: Current learning rate: 0.00235\n",
      "2023-11-30 16:03:29.758338: train_loss -0.7391\n",
      "2023-11-30 16:03:29.758790: val_loss -0.8014\n",
      "2023-11-30 16:03:29.759210: Pseudo dice [0.9059, 0.9319, 0.9237]\n",
      "2023-11-30 16:03:29.759507: Epoch time: 599.11 s\n",
      "2023-11-30 16:03:29.759705: Yayy! New best EMA pseudo Dice: 0.8782\n",
      "2023-11-30 16:03:34.941796: Training done.\n",
      "2023-11-30 16:03:35.099503: Using splits from existing split file: /home/edalita/Documents/MAIA/3-Semestre/MIRMISAProject/IBSR18-tissue-segmentation/nnUNet_preprocessed/Dataset975_BrainSegmentation/splits_final.json\n",
      "2023-11-30 16:03:35.101012: The split file contains 5 splits.\n",
      "2023-11-30 16:03:35.101502: Desired fold for training: 3\n",
      "2023-11-30 16:03:35.102008: This split has 12 training and 3 validation cases.\n",
      "2023-11-30 16:03:35.102763: predicting IBSR_005\n",
      "2023-11-30 16:03:50.048181: predicting IBSR_010\n",
      "2023-11-30 16:03:58.536657: predicting IBSR_014\n",
      "2023-11-30 16:04:22.707290: Validation complete\n",
      "2023-11-30 16:04:22.707448: Mean Validation Dice:  0.9237843734958894\n"
     ]
    }
   ],
   "source": [
    "! nnUNetv2_train 975 2d 3 -tr nnUNetTrainer_5epochs --npz --c"
   ]
  },
  {
   "cell_type": "markdown",
   "metadata": {},
   "source": [
    "## Find the best configuration"
   ]
  },
  {
   "cell_type": "code",
   "execution_count": 12,
   "metadata": {},
   "outputs": [
    {
     "name": "stdout",
     "output_type": "stream",
     "text": [
      "\n",
      "***All results:***\n",
      "nnUNetTrainer_5epochs__nnUNetPlans__2d: 0.9237843734958894\n",
      "\n",
      "*Best*: nnUNetTrainer_5epochs__nnUNetPlans__2d: 0.9237843734958894\n",
      "\n",
      "***Determining postprocessing for best model/ensemble***\n",
      "WARNING: Not all files in folder_ref were found in folder_predictions. Determining postprocessing should always be done on the entire dataset!\n",
      "Results were improved by removing all but the largest foreground region. Mean dice before: 0.92378 after: 0.92378\n",
      "Removing all but the largest component for 1 did not improve results! Dice before: 0.90996 after: 0.86224\n",
      "Results were improved by removing all but the largest component for 2. Dice before: 0.93355 after: 0.93361\n",
      "Removing all but the largest component for 3 did not improve results! Dice before: 0.92784 after: 0.89648\n",
      "\n",
      "***Run inference like this:***\n",
      "\n",
      "nnUNetv2_predict -d Dataset975_BrainSegmentation -i INPUT_FOLDER -o OUTPUT_FOLDER -f  3 -tr nnUNetTrainer_5epochs -c 2d -p nnUNetPlans\n",
      "\n",
      "***Once inference is completed, run postprocessing like this:***\n",
      "\n",
      "nnUNetv2_apply_postprocessing -i OUTPUT_FOLDER -o OUTPUT_FOLDER_PP -pp_pkl_file /home/edalita/Documents/MAIA/3-Semestre/MIRMISAProject/IBSR18-tissue-segmentation/nnUNet_results/Dataset975_BrainSegmentation/nnUNetTrainer_5epochs__nnUNetPlans__2d/crossval_results_folds_3/postprocessing.pkl -np 8 -plans_json /home/edalita/Documents/MAIA/3-Semestre/MIRMISAProject/IBSR18-tissue-segmentation/nnUNet_results/Dataset975_BrainSegmentation/nnUNetTrainer_5epochs__nnUNetPlans__2d/crossval_results_folds_3/plans.json\n"
     ]
    }
   ],
   "source": [
    "! nnUNetv2_find_best_configuration 975 -c 2d -f 3 -tr nnUNetTrainer_5epochs"
   ]
  },
  {
   "cell_type": "markdown",
   "metadata": {},
   "source": [
    "## Predictions"
   ]
  },
  {
   "cell_type": "code",
   "execution_count": 22,
   "metadata": {},
   "outputs": [
    {
     "name": "stdout",
     "output_type": "stream",
     "text": [
      "\n",
      "#######################################################################\n",
      "Please cite the following paper when using nnU-Net:\n",
      "Isensee, F., Jaeger, P. F., Kohl, S. A., Petersen, J., & Maier-Hein, K. H. (2021). nnU-Net: a self-configuring method for deep learning-based biomedical image segmentation. Nature methods, 18(2), 203-211.\n",
      "#######################################################################\n",
      "\n",
      "There are 6 cases in the source folder\n",
      "Traceback (most recent call last):\n",
      "  File \"/home/edalita/Documents/MAIA/3-Semestre/MIRMISAProject/IBSR18-tissue-segmentation/projectMisaMira/bin/nnUNetv2_predict\", line 8, in <module>\n",
      "    sys.exit(predict_entry_point())\n",
      "  File \"/home/edalita/Documents/MAIA/3-Semestre/MIRMISAProject/IBSR18-tissue-segmentation/nnUNet/nnunetv2/inference/predict_from_raw_data.py\", line 838, in predict_entry_point\n",
      "    predictor.predict_from_files(args.i, args.o, save_probabilities=args.save_probabilities,\n",
      "  File \"/home/edalita/Documents/MAIA/3-Semestre/MIRMISAProject/IBSR18-tissue-segmentation/nnUNet/nnunetv2/inference/predict_from_raw_data.py\", line 237, in predict_from_files\n",
      "    self._manage_input_and_output_lists(list_of_lists_or_source_folder,\n",
      "  File \"/home/edalita/Documents/MAIA/3-Semestre/MIRMISAProject/IBSR18-tissue-segmentation/nnUNet/nnunetv2/inference/predict_from_raw_data.py\", line 162, in _manage_input_and_output_lists\n",
      "    caseids = [os.path.basename(i[0])[:-(len(self.dataset_json['file_ending']) + 5)] for i in\n",
      "  File \"/home/edalita/Documents/MAIA/3-Semestre/MIRMISAProject/IBSR18-tissue-segmentation/nnUNet/nnunetv2/inference/predict_from_raw_data.py\", line 162, in <listcomp>\n",
      "    caseids = [os.path.basename(i[0])[:-(len(self.dataset_json['file_ending']) + 5)] for i in\n",
      "IndexError: list index out of range\n"
     ]
    }
   ],
   "source": [
    "! nnUNetv2_predict -d Dataset975_BrainSegmentation -i /home/edalita/Documents/MAIA/3-Semestre/MIRMISAProject/IBSR18-tissue-segmentation/nnUNet_raw/Dataset975_BrainSegmentation/imagesTs/ -o /home/edalita/Documents/MAIA/3-Semestre/MIRMISAProject/IBSR18-tissue-segmentation/nnUNet_raw/Dataset975_BrainSegmentation/labelsTs/ -f  3 -tr nnUNetTrainer_5epochs -c 2d -p nnUNetPlans"
   ]
  },
  {
   "cell_type": "code",
   "execution_count": 15,
   "metadata": {},
   "outputs": [
    {
     "name": "stdout",
     "output_type": "stream",
     "text": [
      "/home/edalita/Documents/MAIA/3-Semestre/MIRMISAProject/IBSR18-tissue-segmentation\n"
     ]
    }
   ],
   "source": [
    "print(base_dir)"
   ]
  },
  {
   "cell_type": "code",
   "execution_count": null,
   "metadata": {},
   "outputs": [],
   "source": [
    "! nnUNetv2_predict "
   ]
  }
 ],
 "metadata": {
  "kernelspec": {
   "display_name": "projectMisaMira",
   "language": "python",
   "name": "python3"
  },
  "language_info": {
   "codemirror_mode": {
    "name": "ipython",
    "version": 3
   },
   "file_extension": ".py",
   "mimetype": "text/x-python",
   "name": "python",
   "nbconvert_exporter": "python",
   "pygments_lexer": "ipython3",
   "version": "3.10.12"
  }
 },
 "nbformat": 4,
 "nbformat_minor": 2
}
