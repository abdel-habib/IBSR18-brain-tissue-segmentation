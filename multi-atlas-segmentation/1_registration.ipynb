{
 "cells": [
  {
   "cell_type": "code",
   "execution_count": 1,
   "id": "31b225fc-c808-4ba4-80c2-de1cea6f6114",
   "metadata": {},
   "outputs": [],
   "source": [
    "import sys\n",
    "sys.path.append('../')\n",
    "\n",
    "from EM import NiftiManager, Evaluate, EM, ElastixTransformix, FileManager\n",
    "from glob import glob\n",
    "import os\n",
    "from tqdm import tqdm\n",
    "\n",
    "# To allow auto reload to this notebook after modifying any external file imported\n",
    "%load_ext autoreload\n",
    "%autoreload 2"
   ]
  },
  {
   "cell_type": "code",
   "execution_count": 2,
   "id": "aa5e06c0-a603-4a8c-94c0-5f97b202f443",
   "metadata": {},
   "outputs": [],
   "source": [
    "NM    = NiftiManager()\n",
    "EVAL  = Evaluate()\n",
    "ET    = ElastixTransformix()\n",
    "FM    = FileManager()"
   ]
  },
  {
   "cell_type": "markdown",
   "id": "2633bce8-9189-4456-b65a-480defad08a3",
   "metadata": {},
   "source": [
    "Loading the Registration parameters"
   ]
  },
  {
   "cell_type": "code",
   "execution_count": 3,
   "id": "6b967479",
   "metadata": {},
   "outputs": [
    {
     "data": {
      "text/plain": [
       "['Par0010affine.txt', 'Par0010bspline.txt']"
      ]
     },
     "execution_count": 3,
     "metadata": {},
     "output_type": "execute_result"
    }
   ],
   "source": [
    "os.listdir('./registration-parameters')"
   ]
  },
  {
   "cell_type": "code",
   "execution_count": 4,
   "id": "98531b07-ccfe-4fb2-b227-3a8624f34b5d",
   "metadata": {},
   "outputs": [],
   "source": [
    "reg_params = '-p \"./registration-parameters/Par0010affine.txt\" -p \"./registration-parameters/Par0010bspline.txt\"'"
   ]
  },
  {
   "cell_type": "markdown",
   "id": "da567ff7-0e14-4515-9eaa-18e72f18fbc4",
   "metadata": {},
   "source": [
    "Loading the dataset"
   ]
  },
  {
   "cell_type": "code",
   "execution_count": 5,
   "id": "ab4db9c1-50a0-475c-8d5e-13ac4a13a00e",
   "metadata": {},
   "outputs": [],
   "source": [
    "train_path = '../TrainingValidationTestSets/Training_Set'\n",
    "valid_path = '../TrainingValidationTestSets/Validation_Set'\n",
    "test_path  = '../TrainingValidationTestSets/Test_Set'"
   ]
  },
  {
   "cell_type": "code",
   "execution_count": 6,
   "id": "d2b93c11-84bb-4de5-b12d-00081e6df1a6",
   "metadata": {},
   "outputs": [],
   "source": [
    "train_volumes = sorted(glob(os.path.join(train_path, \"***\", \"IBSR_*.nii.gz\"), recursive=True))\n",
    "train_volumes = [path for path in train_volumes if 'seg' not in path]\n",
    "\n",
    "train_labels  = sorted(glob(os.path.join(train_path, \"***\", \"IBSR_*_seg.nii.gz\"), recursive=True))"
   ]
  },
  {
   "cell_type": "code",
   "execution_count": 7,
   "id": "d4899941-eb9e-4ba6-a00a-419989cb9fc2",
   "metadata": {},
   "outputs": [],
   "source": [
    "valid_volumes = sorted(glob(os.path.join(valid_path, \"***\", \"IBSR_*.nii.gz\"), recursive=True))\n",
    "valid_volumes = [path for path in valid_volumes if 'seg' not in path]\n",
    "\n",
    "valid_labels  = sorted(glob(os.path.join(valid_path, \"***\", \"IBSR_*_seg.nii.gz\"), recursive=True))"
   ]
  },
  {
   "cell_type": "code",
   "execution_count": 8,
   "id": "1d77af20-848c-48e6-b003-0237b70cc091",
   "metadata": {},
   "outputs": [
    {
     "data": {
      "text/plain": [
       "['../TrainingValidationTestSets/Validation_Set\\\\IBSR_11\\\\IBSR_11.nii.gz',\n",
       " '../TrainingValidationTestSets/Validation_Set\\\\IBSR_12\\\\IBSR_12.nii.gz',\n",
       " '../TrainingValidationTestSets/Validation_Set\\\\IBSR_13\\\\IBSR_13.nii.gz',\n",
       " '../TrainingValidationTestSets/Validation_Set\\\\IBSR_14\\\\IBSR_14.nii.gz',\n",
       " '../TrainingValidationTestSets/Validation_Set\\\\IBSR_17\\\\IBSR_17.nii.gz']"
      ]
     },
     "execution_count": 8,
     "metadata": {},
     "output_type": "execute_result"
    }
   ],
   "source": [
    "valid_volumes"
   ]
  },
  {
   "cell_type": "code",
   "execution_count": 9,
   "id": "4328aa50-1556-4416-b589-e467e1e10cbf",
   "metadata": {},
   "outputs": [],
   "source": [
    "test_volumes = sorted(glob(os.path.join(test_path, \"***\", \"IBSR_*.nii.gz\"), recursive=True))\n",
    "test_volumes = [path for path in test_volumes if 'seg' not in path]"
   ]
  },
  {
   "cell_type": "markdown",
   "id": "9eb3e3b8-d18c-4fdd-a248-83250f7d4ede",
   "metadata": {},
   "source": [
    "Registration and label propagation"
   ]
  },
  {
   "cell_type": "code",
   "execution_count": 31,
   "id": "6d1ff03b-b416-4bed-a3c1-b89908031b09",
   "metadata": {},
   "outputs": [
    {
     "name": "stdout",
     "output_type": "stream",
     "text": [
      "------------- Fixed IBSR_11 -------------\n"
     ]
    },
    {
     "name": "stderr",
     "output_type": "stream",
     "text": [
      "10it [24:29, 146.91s/it]\n"
     ]
    },
    {
     "name": "stdout",
     "output_type": "stream",
     "text": [
      "------------- Fixed IBSR_12 -------------\n"
     ]
    },
    {
     "name": "stderr",
     "output_type": "stream",
     "text": [
      "10it [24:24, 146.42s/it]\n"
     ]
    },
    {
     "name": "stdout",
     "output_type": "stream",
     "text": [
      "------------- Fixed IBSR_13 -------------\n"
     ]
    },
    {
     "name": "stderr",
     "output_type": "stream",
     "text": [
      "10it [41:36, 249.68s/it]\n"
     ]
    },
    {
     "name": "stdout",
     "output_type": "stream",
     "text": [
      "------------- Fixed IBSR_14 -------------\n"
     ]
    },
    {
     "name": "stderr",
     "output_type": "stream",
     "text": [
      "10it [24:21, 146.19s/it]\n"
     ]
    },
    {
     "name": "stdout",
     "output_type": "stream",
     "text": [
      "------------- Fixed IBSR_17 -------------\n"
     ]
    },
    {
     "name": "stderr",
     "output_type": "stream",
     "text": [
      "10it [24:59, 149.90s/it]\n"
     ]
    }
   ],
   "source": [
    "# we will assume the valid set is the test to be able to evaluate our approach for now\n",
    "\n",
    "for fixed_volume, fixed_label in zip(valid_volumes, valid_labels): \n",
    "    image_id = fixed_volume.replace('\\\\', '/').split(\"/\")[-1].split(\".\")[0]\n",
    "\n",
    "    print(f\"------------- Fixed {image_id} -------------\")\n",
    "    \n",
    "    for train_volume, train_label in tqdm(zip(train_volumes, train_labels)):\n",
    "        reg_moving_name = train_volume.replace(\"\\\\\", \"/\").split(\"/\")[-1].split(\".\")[0]\n",
    "\n",
    "        # register an example train volume to the test space\n",
    "        ET.register_elastix(\n",
    "            fixed_path = fixed_volume, \n",
    "            moving_path = train_volume,\n",
    "            reg_params = reg_params,\n",
    "            create_dir_callback = FM.create_directory_if_not_exists,\n",
    "            excute_cmd_callback = ET.excute_cmd)\n",
    "    \n",
    "        # perform label propagation to test space\n",
    "        ET.label_propagation_transformix(\n",
    "            fixed_path = fixed_volume, \n",
    "            moving_path = train_label, \n",
    "            input_label = train_label,\n",
    "            transform_path = f'output/images/output_{image_id}/{reg_moving_name}/TransformParameters.1.txt',\n",
    "            replace_text_in_file_callback = FM.replace_text_in_file,\n",
    "            create_dir_callback = FM.create_directory_if_not_exists,\n",
    "            excute_cmd_callback = ET.excute_cmd)\n",
    "    "
   ]
  }
 ],
 "metadata": {
  "kernelspec": {
   "display_name": "Python 3 (ipykernel)",
   "language": "python",
   "name": "python3"
  },
  "language_info": {
   "codemirror_mode": {
    "name": "ipython",
    "version": 3
   },
   "file_extension": ".py",
   "mimetype": "text/x-python",
   "name": "python",
   "nbconvert_exporter": "python",
   "pygments_lexer": "ipython3",
   "version": "3.10.4"
  }
 },
 "nbformat": 4,
 "nbformat_minor": 5
}
