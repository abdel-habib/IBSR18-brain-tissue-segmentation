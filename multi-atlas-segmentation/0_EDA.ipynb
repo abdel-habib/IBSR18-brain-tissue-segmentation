{
 "cells": [
  {
   "cell_type": "code",
   "execution_count": 1,
   "id": "bd3adfc6-9e64-4e22-8a89-8cc55dbab692",
   "metadata": {},
   "outputs": [],
   "source": [
    "# explore nifti headers for all data\n",
    "# https://nipy.org/nibabel/nifti_images.html\n",
    "# https://www.nature.com/articles/s41598-020-69298-z\n",
    "# https://www.nature.com/articles/s41598-020-69298-z/figures/4\n",
    "# https://simpleitk.readthedocs.io/en/master/link_N4BiasFieldCorrection_docs.html\n",
    "# https://stackoverflow.com/questions/62183303/how-to-compute-the-volume-of-a-single-voxel-of-nifti-medical-image"
   ]
  },
  {
   "cell_type": "code",
   "execution_count": 8,
   "id": "528ac226-6098-4c96-a0cd-c7d1f013a978",
   "metadata": {},
   "outputs": [],
   "source": [
    "import sys\n",
    "sys.path.append('../')\n",
    "\n",
    "from EM import NiftiManager\n",
    "from glob import glob\n",
    "import os"
   ]
  },
  {
   "cell_type": "code",
   "execution_count": 9,
   "id": "5920672d-1039-4f49-b0f6-24215fd50a61",
   "metadata": {},
   "outputs": [],
   "source": [
    "NM    = NiftiManager()"
   ]
  },
  {
   "cell_type": "code",
   "execution_count": 10,
   "id": "1366631c-baba-4081-a7ab-200b252b156f",
   "metadata": {},
   "outputs": [],
   "source": [
    "train_path = '../TrainingValidationTestSets/Training_Set'\n",
    "valid_path = '../TrainingValidationTestSets/Validation_Set'\n",
    "test_path  = '../TrainingValidationTestSets/Test_Set'"
   ]
  },
  {
   "cell_type": "code",
   "execution_count": 11,
   "id": "14096c30-3180-4ce1-93f0-915c77ee8b86",
   "metadata": {},
   "outputs": [],
   "source": [
    "train_volumes = sorted(glob(os.path.join(train_path, \"***\", \"IBSR_*.nii.gz\"), recursive=True))\n",
    "train_volumes = [path for path in train_volumes if 'seg' not in path]\n",
    "\n",
    "train_labels  = sorted(glob(os.path.join(train_path, \"***\", \"IBSR_*_seg.nii.gz\"), recursive=True))"
   ]
  },
  {
   "cell_type": "code",
   "execution_count": 12,
   "id": "66bdf670-155b-4278-a6ed-300fac921742",
   "metadata": {},
   "outputs": [],
   "source": [
    "valid_volumes = sorted(glob(os.path.join(valid_path, \"***\", \"IBSR_*.nii.gz\"), recursive=True))\n",
    "valid_volumes = [path for path in valid_volumes if 'seg' not in path]\n",
    "\n",
    "valid_labels  = sorted(glob(os.path.join(valid_path, \"***\", \"IBSR_*_seg.nii.gz\"), recursive=True))"
   ]
  },
  {
   "cell_type": "code",
   "execution_count": 20,
   "id": "fd1f597c-199f-431c-980f-cd7b095e346c",
   "metadata": {},
   "outputs": [],
   "source": [
    "test_volumes = sorted(glob(os.path.join(test_path, \"***\", \"IBSR_*.nii.gz\"), recursive=True))\n",
    "test_volumes = [path for path in test_volumes if 'seg' not in path]"
   ]
  },
  {
   "cell_type": "markdown",
   "id": "39c2edbf-040e-41cb-8082-5c43d75e9100",
   "metadata": {},
   "source": [
    " "
   ]
  },
  {
   "cell_type": "markdown",
   "id": "6b416e2d-e88d-4a26-97c8-5603bece22c9",
   "metadata": {},
   "source": [
    "The last value of header.get_zooms() is the time between scans in milliseconds; this is the equivalent of voxel size on the time axis.\r\n"
   ]
  },
  {
   "cell_type": "markdown",
   "id": "59bf68eb-eda2-49ae-a1c3-f4b6a4b0f118",
   "metadata": {},
   "source": [
    "handling voxel spacing/voxel size problem"
   ]
  },
  {
   "cell_type": "code",
   "execution_count": 29,
   "id": "52681306-bd1e-46bd-9820-4f9e873eec6e",
   "metadata": {},
   "outputs": [
    {
     "name": "stdout",
     "output_type": "stream",
     "text": [
      "../TrainingValidationTestSets/Training_Set\\IBSR_01\\IBSR_01.nii.gz (256, 128, 256, 1) (0.9375, 1.5, 0.9375, 0.0)\n",
      "../TrainingValidationTestSets/Training_Set\\IBSR_03\\IBSR_03.nii.gz (256, 128, 256, 1) (0.9375, 1.5, 0.9375, 0.0)\n",
      "../TrainingValidationTestSets/Training_Set\\IBSR_04\\IBSR_04.nii.gz (256, 128, 256, 1) (0.9375, 1.5, 0.9375, 0.0)\n",
      "../TrainingValidationTestSets/Training_Set\\IBSR_05\\IBSR_05.nii.gz (256, 128, 256, 1) (0.9375, 1.5, 0.9375, 0.0)\n",
      "../TrainingValidationTestSets/Training_Set\\IBSR_06\\IBSR_06.nii.gz (256, 128, 256, 1) (0.9375, 1.5, 0.9375, 0.0)\n",
      "../TrainingValidationTestSets/Training_Set\\IBSR_07\\IBSR_07.nii.gz (256, 128, 256, 1) (1.0, 1.5, 1.0, 0.0)\n",
      "../TrainingValidationTestSets/Training_Set\\IBSR_08\\IBSR_08.nii.gz (256, 128, 256, 1) (1.0, 1.5, 1.0, 0.0)\n",
      "../TrainingValidationTestSets/Training_Set\\IBSR_09\\IBSR_09.nii.gz (256, 128, 256, 1) (1.0, 1.5, 1.0, 0.0)\n",
      "../TrainingValidationTestSets/Training_Set\\IBSR_16\\IBSR_16.nii.gz (256, 128, 256, 1) (0.8370536, 1.5, 0.8370536, 0.0)\n",
      "../TrainingValidationTestSets/Training_Set\\IBSR_18\\IBSR_18.nii.gz (256, 128, 256, 1) (0.8370536, 1.5, 0.8370536, 0.0)\n"
     ]
    }
   ],
   "source": [
    "for train_path in train_volumes:\n",
    "    data_array, nii_image = NM.load_nifti(train_path)\n",
    "    \n",
    "    print(train_path, data_array.shape, nii_image.header.get_zooms())"
   ]
  },
  {
   "cell_type": "code",
   "execution_count": 27,
   "id": "c278a3fd-2726-4ee5-9c25-1ed7c0ad4049",
   "metadata": {},
   "outputs": [
    {
     "name": "stdout",
     "output_type": "stream",
     "text": [
      "../TrainingValidationTestSets/Validation_Set\\IBSR_11\\IBSR_11.nii.gz (256, 128, 256, 1) (1.0, 1.5, 1.0, 0.0)\n",
      "../TrainingValidationTestSets/Validation_Set\\IBSR_12\\IBSR_12.nii.gz (256, 128, 256, 1) (1.0, 1.5, 1.0, 0.0)\n",
      "../TrainingValidationTestSets/Validation_Set\\IBSR_13\\IBSR_13.nii.gz (256, 128, 256, 1) (0.9375, 1.5, 0.9375, 0.0)\n",
      "../TrainingValidationTestSets/Validation_Set\\IBSR_14\\IBSR_14.nii.gz (256, 128, 256, 1) (0.9375, 1.5, 0.9375, 0.0)\n",
      "../TrainingValidationTestSets/Validation_Set\\IBSR_17\\IBSR_17.nii.gz (256, 128, 256, 1) (0.8370536, 1.5, 0.8370536, 0.0)\n"
     ]
    }
   ],
   "source": [
    "for valid_path in valid_volumes:\n",
    "    data_array, nii_image = NM.load_nifti(valid_path)\n",
    "    \n",
    "    print(valid_path, data_array.shape, nii_image.header.get_zooms())"
   ]
  },
  {
   "cell_type": "code",
   "execution_count": 26,
   "id": "c29ccc20-23d7-4943-a765-50360f370419",
   "metadata": {},
   "outputs": [
    {
     "name": "stdout",
     "output_type": "stream",
     "text": [
      "../TrainingValidationTestSets/Test_Set\\IBSR_02\\IBSR_02.nii.gz (256, 128, 256, 1) (0.9375, 1.5, 0.9375, 0.0)\n",
      "../TrainingValidationTestSets/Test_Set\\IBSR_10\\IBSR_10.nii.gz (256, 128, 256, 1) (1.0, 1.5, 1.0, 0.0)\n",
      "../TrainingValidationTestSets/Test_Set\\IBSR_15\\IBSR_15.nii.gz (256, 128, 256, 1) (0.8370536, 1.5, 0.8370536, 0.0)\n"
     ]
    }
   ],
   "source": [
    "for test_path in test_volumes:\n",
    "    data_array, nii_image = NM.load_nifti(test_path)\n",
    "    \n",
    "    print(test_path, data_array.shape, nii_image.header.get_zooms())"
   ]
  },
  {
   "cell_type": "code",
   "execution_count": null,
   "id": "704f6a16-5a3e-4236-b859-2816b32991fb",
   "metadata": {},
   "outputs": [],
   "source": []
  }
 ],
 "metadata": {
  "kernelspec": {
   "display_name": "Python 3 (ipykernel)",
   "language": "python",
   "name": "python3"
  },
  "language_info": {
   "codemirror_mode": {
    "name": "ipython",
    "version": 3
   },
   "file_extension": ".py",
   "mimetype": "text/x-python",
   "name": "python",
   "nbconvert_exporter": "python",
   "pygments_lexer": "ipython3",
   "version": "3.10.4"
  }
 },
 "nbformat": 4,
 "nbformat_minor": 5
}
