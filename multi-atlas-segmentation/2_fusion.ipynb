{
 "cells": [
  {
   "cell_type": "code",
   "execution_count": 1,
   "id": "38f6c4e3-d37f-4298-b8d9-a36245c141bd",
   "metadata": {},
   "outputs": [],
   "source": [
    "import sys\n",
    "sys.path.append('../')\n",
    "\n",
    "from glob import glob\n",
    "import os\n",
    "from tqdm import tqdm\n",
    "import numpy as np\n",
    "\n",
    "from EM import NiftiManager, Evaluate, EM, ElastixTransformix, FileManager, BrainAtlasManager\n",
    "from utils.fusion import majority_voting_fusion, weighted_voting_fusion\n",
    "\n",
    "# To allow auto reload to this notebook after modifying any external file imported\n",
    "%load_ext autoreload\n",
    "%autoreload 2"
   ]
  },
  {
   "cell_type": "code",
   "execution_count": 2,
   "id": "5f80f258-4998-44d3-ada8-e60e696981a3",
   "metadata": {},
   "outputs": [],
   "source": [
    "NM    = NiftiManager()\n",
    "EVAL  = Evaluate()\n",
    "ET    = ElastixTransformix()\n",
    "FM    = FileManager()\n",
    "BM    = BrainAtlasManager()"
   ]
  },
  {
   "cell_type": "code",
   "execution_count": 3,
   "id": "de361f5f-5c74-4682-80f3-82cda1fc59e3",
   "metadata": {},
   "outputs": [
    {
     "name": "stdout",
     "output_type": "stream",
     "text": [
      "['images', 'labels']\n",
      "['output_IBSR_11', 'output_IBSR_12', 'output_IBSR_13', 'output_IBSR_14', 'output_IBSR_17']\n",
      "['output_IBSR_11', 'output_IBSR_12', 'output_IBSR_13', 'output_IBSR_14', 'output_IBSR_17']\n"
     ]
    }
   ],
   "source": [
    "print(os.listdir('./output/'))\n",
    "print(os.listdir('./output/images'))\n",
    "print(os.listdir('./output/labels'))"
   ]
  },
  {
   "cell_type": "markdown",
   "id": "15b2efa7-9b35-49d8-b998-9a7d8c4973cb",
   "metadata": {},
   "source": [
    "In the next few cells, we will run the fusion and evaluation using registered intensities and labelled that were registered to all val/test subjects, not taking into account the group or any other information that were analyzed in the EDA notebook."
   ]
  },
  {
   "cell_type": "code",
   "execution_count": null,
   "id": "ae64b0b7-1e19-4c14-8f27-05ab4aaa51d4",
   "metadata": {},
   "outputs": [
    {
     "name": "stdout",
     "output_type": "stream",
     "text": [
      "Evaluating using \"majority_voting_fusion\" fusion technique\n",
      "Test volume IBSR_11 dice results {'WM': 0.78578, 'GM': 0.876239, 'CSF': 0.740233}\n",
      "Test volume IBSR_12 dice results {'WM': 0.800773, 'GM': 0.900176, 'CSF': 0.746292}\n",
      "Test volume IBSR_13 dice results {'WM': 0.787228, 'GM': 0.90687, 'CSF': 0.585436}\n",
      "Test volume IBSR_14 dice results {'WM': 0.805461, 'GM': 0.902183, 'CSF': 0.793226}\n",
      "Test volume IBSR_17 dice results {'WM': 0.780982, 'GM': 0.900373, 'CSF': 0.83405}\n",
      "-----------------------------------------------------------------------------------\n",
      "Evaluating using \"weighted_voting_fusion\" fusion technique\n",
      "Test volume IBSR_11 dice results {'WM': 0.792716, 'GM': 0.875556, 'CSF': 0.747126}\n",
      "Test volume IBSR_12 dice results {'WM': 0.800848, 'GM': 0.895985, 'CSF': 0.724778}\n"
     ]
    }
   ],
   "source": [
    "# {fixed}/{moving_folders}\n",
    "# each fixed will be the test subject (for now, it is the validation), thus we will validate separately\n",
    "\n",
    "output_images_dir = './output/images'\n",
    "output_labels_dir = './output/labels'\n",
    "\n",
    "# iterate through all fusion techniques\n",
    "for fusion_callback in [majority_voting_fusion, weighted_voting_fusion]:\n",
    "    print(f'Evaluating using \"{fusion_callback.__name__}\" fusion technique')\n",
    "\n",
    "    # iterate through all fixed directories\n",
    "    for fixed_intensity, fixed_label in zip(os.listdir(output_images_dir), os.listdir(output_labels_dir)):\n",
    "        # create a path for the current fixed\n",
    "        fixed_label_path = os.path.join(output_labels_dir, fixed_label)\n",
    "        fixed_intensity_path = os.path.join(output_labels_dir, fixed_intensity)\n",
    "        \n",
    "        # get the propagated masks that were result of the label propagation to the current fixed\n",
    "        moving_masks = [m.replace('\\\\', '/') for m in glob(os.path.join(fixed_label_path, \"IBSR_**_seg\", \"*.nii\"), recursive=True)]\n",
    "        moving_intensity = [m.replace('\\\\', '/') for m in glob(os.path.join(fixed_intensity_path, \"IBSR_**\", \"*.nii\"), recursive=True)]\n",
    "        \n",
    "        # load the label gt of the test image (target) ( validation for now )\n",
    "        fixed_filename = fixed_intensity.split('output_')[-1] # output_IBSR_11 > IBSR_11\n",
    "        target_label_path = f'../TrainingValidationTestSets/Validation_Set/{fixed_filename}/{fixed_filename}_seg.nii.gz'\n",
    "        target_intensity_path = f'../TrainingValidationTestSets/Validation_Set/{fixed_filename}/{fixed_filename}.nii.gz'\n",
    "    \n",
    "        target_label_nifti = NM.load_nifti(target_label_path)[0][:,:,:,0]\n",
    "        target_intensity_nifti = NM.load_nifti(target_intensity_path)[0][:,:,:,0]\n",
    "    \n",
    "        # fuse method\n",
    "        if fusion_callback.__name__ == 'majority_voting_fusion':\n",
    "            mean_csf, mean_gm, mean_wm = fusion_callback(\n",
    "                labels_dirs = moving_masks, \n",
    "                load_nifti_callback = NM.load_nifti)\n",
    "            \n",
    "        elif fusion_callback.__name__ == 'weighted_voting_fusion':\n",
    "            mean_csf, mean_gm, mean_wm = fusion_callback(\n",
    "                labels_dirs = moving_masks, \n",
    "                intensity_dirs = moving_intensity,\n",
    "                target_intensity_path = target_intensity_path,\n",
    "                load_nifti_callback = NM.load_nifti)\n",
    "        \n",
    "        # segment using the tissue atlases we created using the voting technique\n",
    "        segmentation_result, concatenated_atlas = BM.segment_using_tissue_atlas(target_intensity_nifti, target_label_nifti, mean_csf, mean_gm, mean_wm)\n",
    "    \n",
    "        # evaluate dice score\n",
    "        dice_coefficients = EVAL.evaluate_dice_volumes(segmentation_result, target_label_nifti, labels={'BG':0, 'CSF':1, 'GM':2, 'WM':3})\n",
    "    \n",
    "        print(f'Test volume {fixed_filename} dice results {dice_coefficients}')\n",
    "    \n",
    "    print('-----------------------------------------------------------------------------------')"
   ]
  },
  {
   "cell_type": "code",
   "execution_count": null,
   "id": "192d1a3c-b088-4af1-8211-4752883a29a3",
   "metadata": {},
   "outputs": [],
   "source": []
  },
  {
   "cell_type": "code",
   "execution_count": null,
   "id": "e4bbff0c-7001-4eab-aef7-704c899f2a25",
   "metadata": {},
   "outputs": [],
   "source": []
  },
  {
   "cell_type": "code",
   "execution_count": null,
   "id": "687d947f-db58-46b6-bbef-f85f33fb0802",
   "metadata": {},
   "outputs": [],
   "source": []
  },
  {
   "cell_type": "code",
   "execution_count": null,
   "id": "b3fb4334-237a-42fd-9696-e5af7bbd1134",
   "metadata": {},
   "outputs": [],
   "source": []
  },
  {
   "cell_type": "markdown",
   "id": "84cde165-318a-4940-a67b-da24424d5bc1",
   "metadata": {},
   "source": [
    "code below is just for debugging, don't delete"
   ]
  },
  {
   "cell_type": "code",
   "execution_count": 14,
   "id": "86a8fa4d-978c-4e75-a3e6-8a77295e8976",
   "metadata": {},
   "outputs": [],
   "source": [
    "labels_path_output_IBSR_11 = './output/labels/output_IBSR_11/'\n",
    "images_path_output_IBSR_11 = './output/images/output_IBSR_11/'\n",
    "\n",
    "labels_output_IBSR_11 = glob(os.path.join(labels_path_output_IBSR_11, \"IBSR_**_seg\", \"*.nii\"), recursive=True)\n",
    "images_output_IBSR_11 = glob(os.path.join(images_path_output_IBSR_11, \"IBSR_**\", \"*.nii\"), recursive=True)"
   ]
  },
  {
   "cell_type": "code",
   "execution_count": 16,
   "id": "60cedab9-1991-4ff8-b161-f4d05b928f70",
   "metadata": {},
   "outputs": [],
   "source": [
    "# images_output_IBSR_11"
   ]
  },
  {
   "cell_type": "code",
   "execution_count": 11,
   "id": "6d11c6dc-1783-4063-922b-6a9692de65aa",
   "metadata": {},
   "outputs": [],
   "source": [
    "# # segmenting using those atlases\n",
    "# IBSR_11 = '../TrainingValidationTestSets/Validation_Set/IBSR_11/IBSR_11.nii.gz'\n",
    "# IBSR_11_label = '../TrainingValidationTestSets/Validation_Set/IBSR_11/IBSR_11_seg.nii.gz'"
   ]
  },
  {
   "cell_type": "code",
   "execution_count": 12,
   "id": "707fda58-a115-4133-ad4e-9bc925096539",
   "metadata": {},
   "outputs": [],
   "source": [
    "# mean_csf, mean_gm, mean_wm = weighted_voting(\n",
    "#     labels_dirs = labels_output_IBSR_11, \n",
    "#     intensity_dirs = images_output_IBSR_11,\n",
    "#     target_intensity_path = IBSR_11,\n",
    "#     load_nifti_callback = NM.load_nifti)\n",
    "\n",
    "# print(mean_csf.shape, mean_gm.shape, mean_wm.shape)\n"
   ]
  },
  {
   "cell_type": "code",
   "execution_count": 13,
   "id": "fc642cfc-1059-4114-a34f-ddf3c5db3907",
   "metadata": {},
   "outputs": [],
   "source": [
    "# NM.show_mean_volumes(mean_csf, mean_wm, mean_gm, slices=[128])"
   ]
  }
 ],
 "metadata": {
  "kernelspec": {
   "display_name": "Python 3 (ipykernel)",
   "language": "python",
   "name": "python3"
  },
  "language_info": {
   "codemirror_mode": {
    "name": "ipython",
    "version": 3
   },
   "file_extension": ".py",
   "mimetype": "text/x-python",
   "name": "python",
   "nbconvert_exporter": "python",
   "pygments_lexer": "ipython3",
   "version": "3.10.4"
  }
 },
 "nbformat": 4,
 "nbformat_minor": 5
}
