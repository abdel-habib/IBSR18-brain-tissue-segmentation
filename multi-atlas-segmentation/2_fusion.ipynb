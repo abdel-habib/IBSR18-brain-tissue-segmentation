{
 "cells": [
  {
   "cell_type": "code",
   "execution_count": 49,
   "id": "38f6c4e3-d37f-4298-b8d9-a36245c141bd",
   "metadata": {},
   "outputs": [
    {
     "name": "stdout",
     "output_type": "stream",
     "text": [
      "The autoreload extension is already loaded. To reload it, use:\n",
      "  %reload_ext autoreload\n"
     ]
    }
   ],
   "source": [
    "import sys\n",
    "sys.path.append('../')\n",
    "\n",
    "import json\n",
    "from glob import glob\n",
    "import os\n",
    "from tqdm import tqdm\n",
    "import numpy as np\n",
    "\n",
    "from EM import NiftiManager, Evaluate, EM, ElastixTransformix, FileManager, BrainAtlasManager\n",
    "from utils.fusion import majority_voting_fusion, weighted_voting_fusion, staple_fusion\n",
    "from utils.evaluate import hausdorff_distance\n",
    "\n",
    "# To allow auto reload to this notebook after modifying any external file imported\n",
    "%load_ext autoreload\n",
    "%autoreload 2"
   ]
  },
  {
   "cell_type": "code",
   "execution_count": 35,
   "id": "5f80f258-4998-44d3-ada8-e60e696981a3",
   "metadata": {},
   "outputs": [],
   "source": [
    "NM    = NiftiManager()\n",
    "EVAL  = Evaluate()\n",
    "ET    = ElastixTransformix()\n",
    "FM    = FileManager()\n",
    "BM    = BrainAtlasManager()"
   ]
  },
  {
   "cell_type": "code",
   "execution_count": 36,
   "id": "de361f5f-5c74-4682-80f3-82cda1fc59e3",
   "metadata": {},
   "outputs": [
    {
     "name": "stdout",
     "output_type": "stream",
     "text": [
      "['images', 'labels']\n",
      "['output_IBSR_11', 'output_IBSR_12', 'output_IBSR_13', 'output_IBSR_14', 'output_IBSR_17']\n",
      "['output_IBSR_11', 'output_IBSR_12', 'output_IBSR_13', 'output_IBSR_14', 'output_IBSR_17']\n"
     ]
    }
   ],
   "source": [
    "print(os.listdir('./output_base/'))\n",
    "print(os.listdir('./output_base/images'))\n",
    "print(os.listdir('./output_base/labels'))"
   ]
  },
  {
   "cell_type": "markdown",
   "id": "15b2efa7-9b35-49d8-b998-9a7d8c4973cb",
   "metadata": {},
   "source": [
    "In the next few cells, we will run the fusion and evaluation using registered intensities and labelled that were registered to all val/test subjects, not taking into account the group or any other information that were analyzed in the EDA notebook."
   ]
  },
  {
   "cell_type": "code",
   "execution_count": 55,
   "id": "ae64b0b7-1e19-4c14-8f27-05ab4aaa51d4",
   "metadata": {},
   "outputs": [
    {
     "name": "stdout",
     "output_type": "stream",
     "text": [
      "Evaluating using \"majority_voting_fusion\" fusion technique\n",
      "Testing volume IBSR_11:-\n",
      " - Dice scores {'WM': 0.78578, 'GM': 0.876239, 'CSF': 0.740233}\n",
      "Testing volume IBSR_12:-\n",
      " - Dice scores {'WM': 0.800773, 'GM': 0.900176, 'CSF': 0.746292}\n",
      "Testing volume IBSR_13:-\n",
      " - Dice scores {'WM': 0.787228, 'GM': 0.90687, 'CSF': 0.585436}\n",
      "Testing volume IBSR_14:-\n",
      " - Dice scores {'WM': 0.805461, 'GM': 0.902183, 'CSF': 0.793226}\n",
      "Testing volume IBSR_17:-\n",
      " - Dice scores {'WM': 0.780982, 'GM': 0.900373, 'CSF': 0.83405}\n",
      "------------------------------------------------------------------------------------------------------------------------------------------------------\n",
      "Evaluating using \"weighted_voting_fusion\" fusion technique\n",
      "Testing volume IBSR_11:-\n",
      " - Dice scores {'WM': 0.792716, 'GM': 0.875556, 'CSF': 0.747126}\n",
      "Testing volume IBSR_12:-\n",
      " - Dice scores {'WM': 0.800848, 'GM': 0.895985, 'CSF': 0.724778}\n",
      "Testing volume IBSR_13:-\n",
      " - Dice scores {'WM': 0.783434, 'GM': 0.901706, 'CSF': 0.582829}\n",
      "Testing volume IBSR_14:-\n",
      " - Dice scores {'WM': 0.807377, 'GM': 0.899716, 'CSF': 0.797414}\n",
      "Testing volume IBSR_17:-\n",
      " - Dice scores {'WM': 0.782576, 'GM': 0.897498, 'CSF': 0.822598}\n",
      "------------------------------------------------------------------------------------------------------------------------------------------------------\n",
      "Evaluating using \"staple_fusion\" fusion technique\n",
      "Testing volume IBSR_11:-\n",
      " - Dice scores {'WM': 0.784758, 'GM': 0.876151, 'CSF': 0.763278}\n",
      "Testing volume IBSR_12:-\n",
      " - Dice scores {'WM': 0.797089, 'GM': 0.89979, 'CSF': 0.817135}\n",
      "Testing volume IBSR_13:-\n",
      " - Dice scores {'WM': 0.776725, 'GM': 0.906559, 'CSF': 0.770113}\n",
      "Testing volume IBSR_14:-\n",
      " - Dice scores {'WM': 0.804542, 'GM': 0.902065, 'CSF': 0.804385}\n",
      "Testing volume IBSR_17:-\n",
      " - Dice scores {'WM': 0.779115, 'GM': 0.900271, 'CSF': 0.877612}\n",
      "------------------------------------------------------------------------------------------------------------------------------------------------------\n"
     ]
    }
   ],
   "source": [
    "# {fixed}/{moving_folders}\n",
    "# each fixed will be the test subject (for now, it is the validation), thus we will validate separately\n",
    "\n",
    "output_images_dir = './output_base/images'\n",
    "output_labels_dir = './output_base/labels'\n",
    "\n",
    "# iterate through all fusion techniques\n",
    "for fusion_callback in [majority_voting_fusion, weighted_voting_fusion, staple_fusion]:\n",
    "    print(f'Evaluating using \"{fusion_callback.__name__}\" fusion technique')\n",
    "\n",
    "    # iterate through all fixed directories\n",
    "    for fixed_intensity, fixed_label in zip(os.listdir(output_images_dir), os.listdir(output_labels_dir)):\n",
    "        # create a path for the current fixed\n",
    "        fixed_label_path = os.path.join(output_labels_dir, fixed_label)\n",
    "        fixed_intensity_path = os.path.join(output_labels_dir, fixed_intensity)\n",
    "        \n",
    "        # get the propagated masks that were result of the label propagation to the current fixed\n",
    "        moving_masks = [m.replace('\\\\', '/') for m in glob(os.path.join(fixed_label_path, \"IBSR_**_seg\", \"*.nii\"), recursive=True)]\n",
    "        moving_intensity = [m.replace('\\\\', '/') for m in glob(os.path.join(fixed_intensity_path, \"IBSR_**\", \"*.nii\"), recursive=True)]\n",
    "        \n",
    "        # load the label gt of the test image (target) ( validation for now )\n",
    "        fixed_filename = fixed_intensity.split('output_')[-1] # output_IBSR_11 > IBSR_11\n",
    "        target_label_path = f'../TrainingValidationTestSets/Validation_Set/{fixed_filename}/{fixed_filename}_seg.nii.gz'\n",
    "        target_intensity_path = f'../TrainingValidationTestSets/Validation_Set/{fixed_filename}/{fixed_filename}.nii.gz'\n",
    "    \n",
    "        target_label_nifti = NM.load_nifti(target_label_path)[0][:,:,:,0]\n",
    "        target_intensity_nifti = NM.load_nifti(target_intensity_path)[0][:,:,:,0]\n",
    "    \n",
    "        # fuse method\n",
    "        if fusion_callback.__name__ in ['majority_voting_fusion', 'staple_fusion']:\n",
    "            mean_csf, mean_gm, mean_wm = fusion_callback(\n",
    "                labels_dirs = moving_masks, \n",
    "                load_nifti_callback = NM.load_nifti)\n",
    "            \n",
    "        elif fusion_callback.__name__ == 'weighted_voting_fusion':\n",
    "            mean_csf, mean_gm, mean_wm = fusion_callback(\n",
    "                labels_dirs = moving_masks, \n",
    "                intensity_dirs = moving_intensity,\n",
    "                target_intensity_path = target_intensity_path,\n",
    "                load_nifti_callback = NM.load_nifti)\n",
    "        \n",
    "        # segment using the tissue atlases we created using the voting technique\n",
    "        segmentation_result, concatenated_atlas = BM.segment_using_tissue_atlas(target_intensity_nifti, target_label_nifti, mean_csf, mean_gm, mean_wm)\n",
    "    \n",
    "        # evaluate dice score\n",
    "        dice_coefficients = EVAL.evaluate_dice_volumes(segmentation_result, target_label_nifti, labels={'BG':0, 'CSF':1, 'GM':2, 'WM':3})\n",
    "        # hausdorff_distances = hausdorff_distance(segmentation_result, target_label_nifti, labels={'BG':0, 'CSF':1, 'GM':2, 'WM':3}, voxelspacing=...)\n",
    "        \n",
    "        print(f'Testing volume {fixed_filename}:-')\n",
    "        print(f' - Dice scores {dice_coefficients}')\n",
    "        # print(f' - Hausdorff Distance: {hausdorff_distances}')\n",
    "    \n",
    "    print('------------------------------------------------------------------------------------------------------------------------------------------------------')"
   ]
  },
  {
   "cell_type": "markdown",
   "id": "390cf534-ac7e-41d1-aa70-e5b416de300d",
   "metadata": {},
   "source": [
    "As we observed different voxel sizes accross the dataset, we defined a dataset structure for handling the registration paths, where we will register similar modalities with similar voxel sizes togather to avoid sampling. In `TrainingValidationTestSets\\description.json`, we clustered each given volume to a group and each group will be registered togather."
   ]
  },
  {
   "cell_type": "code",
   "execution_count": 54,
   "id": "0e407b09-7ab5-4db2-97d5-1f610a082994",
   "metadata": {},
   "outputs": [
    {
     "name": "stdout",
     "output_type": "stream",
     "text": [
      "Evaluating using \"majority_voting_fusion\" fusion technique\n",
      "Testing volume IBSR_11:-\n",
      " - Dice scores {'WM': 0.783063, 'GM': 0.849518, 'CSF': 0.556359}\n",
      "Testing volume IBSR_12:-\n",
      " - Dice scores {'WM': 0.775957, 'GM': 0.864478, 'CSF': 0.632066}\n",
      "Testing volume IBSR_13:-\n",
      " - Dice scores {'WM': 0.774438, 'GM': 0.894708, 'CSF': 0.533588}\n",
      "Testing volume IBSR_14:-\n",
      " - Dice scores {'WM': 0.798197, 'GM': 0.892459, 'CSF': 0.735868}\n",
      "Testing volume IBSR_17:-\n",
      " - Dice scores {'WM': 0.72679, 'GM': 0.885204, 'CSF': 0.618607}\n",
      "------------------------------------------------------------------------------------------------------------------------------------------------------\n",
      "Evaluating using \"weighted_voting_fusion\" fusion technique\n",
      "Testing volume IBSR_11:-\n",
      " - Dice scores {'WM': 0.781398, 'GM': 0.847654, 'CSF': 0.561203}\n",
      "Testing volume IBSR_12:-\n",
      " - Dice scores {'WM': 0.773564, 'GM': 0.862476, 'CSF': 0.63342}\n",
      "Testing volume IBSR_13:-\n",
      " - Dice scores {'WM': 0.773911, 'GM': 0.894359, 'CSF': 0.529962}\n",
      "Testing volume IBSR_14:-\n",
      " - Dice scores {'WM': 0.797946, 'GM': 0.89218, 'CSF': 0.739978}\n",
      "Testing volume IBSR_17:-\n",
      " - Dice scores {'WM': 0.731985, 'GM': 0.867519, 'CSF': 0.482638}\n",
      "------------------------------------------------------------------------------------------------------------------------------------------------------\n",
      "Evaluating using \"staple_fusion\" fusion technique\n",
      "Testing volume IBSR_11:-\n",
      " - Dice scores {'WM': 0.783039, 'GM': 0.858244, 'CSF': 0.754315}\n",
      "Testing volume IBSR_12:-\n",
      " - Dice scores {'WM': 0.77607, 'GM': 0.874117, 'CSF': 0.838214}\n",
      "Testing volume IBSR_13:-\n",
      " - Dice scores {'WM': 0.761368, 'GM': 0.894535, 'CSF': 0.775634}\n",
      "Testing volume IBSR_14:-\n",
      " - Dice scores {'WM': 0.795647, 'GM': 0.892314, 'CSF': 0.793692}\n",
      "Testing volume IBSR_17:-\n",
      " - Dice scores {'WM': 0.712895, 'GM': 0.885336, 'CSF': 0.833068}\n",
      "------------------------------------------------------------------------------------------------------------------------------------------------------\n"
     ]
    }
   ],
   "source": [
    "# {fixed}/{moving_folders}\n",
    "# each fixed will be the test subject (for now, it is the validation), thus we will validate separately\n",
    "\n",
    "output_images_dir = './output/images'\n",
    "output_labels_dir = './output/labels'\n",
    "\n",
    "# iterate through all fusion techniques\n",
    "for fusion_callback in [majority_voting_fusion, weighted_voting_fusion, staple_fusion]:\n",
    "    print(f'Evaluating using \"{fusion_callback.__name__}\" fusion technique')\n",
    "\n",
    "    # iterate through all fixed directories\n",
    "    for fixed_intensity, fixed_label in zip(os.listdir(output_images_dir), os.listdir(output_labels_dir)):\n",
    "        # create a path for the current fixed\n",
    "        fixed_label_path = os.path.join(output_labels_dir, fixed_label)\n",
    "        fixed_intensity_path = os.path.join(output_labels_dir, fixed_intensity)\n",
    "        \n",
    "        # get the propagated masks that were result of the label propagation to the current fixed\n",
    "        moving_masks = [m.replace('\\\\', '/') for m in glob(os.path.join(fixed_label_path, \"IBSR_**_seg\", \"*.nii\"), recursive=True)]\n",
    "        moving_intensity = [m.replace('\\\\', '/') for m in glob(os.path.join(fixed_intensity_path, \"IBSR_**\", \"*.nii\"), recursive=True)]\n",
    "        \n",
    "        # load the label gt of the test image (target) ( validation for now )\n",
    "        fixed_filename = fixed_intensity.split('output_')[-1] # output_IBSR_11 > IBSR_11\n",
    "        target_label_path = f'../TrainingValidationTestSets/Validation_Set/{fixed_filename}/{fixed_filename}_seg.nii.gz'\n",
    "        target_intensity_path = f'../TrainingValidationTestSets/Validation_Set/{fixed_filename}/{fixed_filename}.nii.gz'\n",
    "    \n",
    "        target_label_nifti = NM.load_nifti(target_label_path)[0][:,:,:,0]\n",
    "        target_intensity_nifti = NM.load_nifti(target_intensity_path)[0][:,:,:,0]\n",
    "    \n",
    "        # fuse method\n",
    "        if fusion_callback.__name__ in ['majority_voting_fusion', 'staple_fusion']:\n",
    "            mean_csf, mean_gm, mean_wm = fusion_callback(\n",
    "                labels_dirs = moving_masks, \n",
    "                load_nifti_callback = NM.load_nifti)\n",
    "            \n",
    "        elif fusion_callback.__name__ == 'weighted_voting_fusion':\n",
    "            mean_csf, mean_gm, mean_wm = fusion_callback(\n",
    "                labels_dirs = moving_masks, \n",
    "                intensity_dirs = moving_intensity,\n",
    "                target_intensity_path = target_intensity_path,\n",
    "                load_nifti_callback = NM.load_nifti)\n",
    "        \n",
    "        # segment using the tissue atlases we created using the voting technique\n",
    "        segmentation_result, concatenated_atlas = BM.segment_using_tissue_atlas(target_intensity_nifti, target_label_nifti, mean_csf, mean_gm, mean_wm)\n",
    "    \n",
    "        # evaluate dice score\n",
    "        dice_coefficients = EVAL.evaluate_dice_volumes(segmentation_result, target_label_nifti, labels={'BG':0, 'CSF':1, 'GM':2, 'WM':3})\n",
    "        # hausdorff_distances = hausdorff_distance(segmentation_result, target_label_nifti, labels={'BG':0, 'CSF':1, 'GM':2, 'WM':3})\n",
    "        \n",
    "        print(f'Testing volume {fixed_filename}:-')\n",
    "        print(f' - Dice scores {dice_coefficients}')\n",
    "        # print(f' - Hausdorff Distance: {hausdorff_distances}')\n",
    "    \n",
    "    print('------------------------------------------------------------------------------------------------------------------------------------------------------')"
   ]
  },
  {
   "cell_type": "code",
   "execution_count": null,
   "id": "d5d39862-da5a-4c8f-b473-3d2b3ab7d82c",
   "metadata": {},
   "outputs": [],
   "source": []
  },
  {
   "cell_type": "code",
   "execution_count": null,
   "id": "d6627846-6c1f-4c9b-9af8-74622bf28920",
   "metadata": {},
   "outputs": [],
   "source": []
  },
  {
   "cell_type": "code",
   "execution_count": null,
   "id": "687d947f-db58-46b6-bbef-f85f33fb0802",
   "metadata": {},
   "outputs": [],
   "source": []
  },
  {
   "cell_type": "code",
   "execution_count": null,
   "id": "b3fb4334-237a-42fd-9696-e5af7bbd1134",
   "metadata": {},
   "outputs": [],
   "source": []
  },
  {
   "cell_type": "markdown",
   "id": "84cde165-318a-4940-a67b-da24424d5bc1",
   "metadata": {},
   "source": [
    "code below is just for debugging, don't delete"
   ]
  },
  {
   "cell_type": "code",
   "execution_count": 48,
   "id": "86a8fa4d-978c-4e75-a3e6-8a77295e8976",
   "metadata": {},
   "outputs": [],
   "source": [
    "# labels_path_output_IBSR_11 = './output/labels/output_IBSR_11/'\n",
    "# images_path_output_IBSR_11 = './output/images/output_IBSR_11/'\n",
    "\n",
    "# labels_output_IBSR_11 = glob(os.path.join(labels_path_output_IBSR_11, \"IBSR_**_seg\", \"*.nii\"), recursive=True)\n",
    "# images_output_IBSR_11 = glob(os.path.join(images_path_output_IBSR_11, \"IBSR_**\", \"*.nii\"), recursive=True)"
   ]
  },
  {
   "cell_type": "code",
   "execution_count": 49,
   "id": "60cedab9-1991-4ff8-b161-f4d05b928f70",
   "metadata": {},
   "outputs": [],
   "source": [
    "# labels_output_IBSR_11"
   ]
  },
  {
   "cell_type": "code",
   "execution_count": 50,
   "id": "0c78ba05-62b6-4fd9-a4d1-aeb7cd7d2394",
   "metadata": {},
   "outputs": [],
   "source": [
    "# nn = NM.load_nifti(labels_output_IBSR_11[0])[0]\n",
    "# NM.show_nifti(nn, \"test\", 140)"
   ]
  },
  {
   "cell_type": "code",
   "execution_count": 51,
   "id": "86013088-447f-4e02-b99b-ac6f79ba33e8",
   "metadata": {},
   "outputs": [],
   "source": [
    "# mean_csf, mean_gm, mean_wm = staple_fusion(\n",
    "#     labels_dirs = labels_output_IBSR_11,\n",
    "#     load_nifti_callback = NM.load_nifti\n",
    "# )"
   ]
  },
  {
   "cell_type": "code",
   "execution_count": 52,
   "id": "82baf9dd-a7c9-4f44-b2a6-681e098eb891",
   "metadata": {},
   "outputs": [],
   "source": [
    "# NM.show_nifti(mean_wm, \"staple_res\", 140)"
   ]
  },
  {
   "cell_type": "code",
   "execution_count": 11,
   "id": "6d11c6dc-1783-4063-922b-6a9692de65aa",
   "metadata": {},
   "outputs": [],
   "source": [
    "# # segmenting using those atlases\n",
    "# IBSR_11 = '../TrainingValidationTestSets/Validation_Set/IBSR_11/IBSR_11.nii.gz'\n",
    "# IBSR_11_label = '../TrainingValidationTestSets/Validation_Set/IBSR_11/IBSR_11_seg.nii.gz'"
   ]
  },
  {
   "cell_type": "code",
   "execution_count": 12,
   "id": "707fda58-a115-4133-ad4e-9bc925096539",
   "metadata": {},
   "outputs": [],
   "source": [
    "# mean_csf, mean_gm, mean_wm = weighted_voting(\n",
    "#     labels_dirs = labels_output_IBSR_11, \n",
    "#     intensity_dirs = images_output_IBSR_11,\n",
    "#     target_intensity_path = IBSR_11,\n",
    "#     load_nifti_callback = NM.load_nifti)\n",
    "\n",
    "# print(mean_csf.shape, mean_gm.shape, mean_wm.shape)\n"
   ]
  },
  {
   "cell_type": "code",
   "execution_count": 13,
   "id": "fc642cfc-1059-4114-a34f-ddf3c5db3907",
   "metadata": {},
   "outputs": [],
   "source": [
    "# NM.show_mean_volumes(mean_csf, mean_wm, mean_gm, slices=[128])"
   ]
  },
  {
   "cell_type": "code",
   "execution_count": 5,
   "id": "e4bbff0c-7001-4eab-aef7-704c899f2a25",
   "metadata": {},
   "outputs": [],
   "source": [
    "# with open('../TrainingValidationTestSets/description.json', 'r') as json_file:\n",
    "#         dictionary = json.loads(json_file.read())\n",
    "# # FM.pprint_objects(dictionary)\n",
    "\n",
    "# for modality in dictionary:\n",
    "#     # we get the data of the same modality\n",
    "#     dataset = dictionary[modality]\n",
    "    \n",
    "#     # register the data of the same modality to the target\n",
    "#     # make sure the code is reusable for inference, now we will evaluate the fusions on the validation set, but for submission, \n",
    "#     # it has to be submitted on the test set\n",
    "#     print(dataset['train'], dataset['valid'])"
   ]
  },
  {
   "cell_type": "code",
   "execution_count": null,
   "id": "c461fe0b-3132-4c13-86d7-09a237bfb762",
   "metadata": {},
   "outputs": [],
   "source": []
  },
  {
   "cell_type": "code",
   "execution_count": null,
   "id": "518c8c20-1f8f-4e94-a5ba-c70a7381b3ac",
   "metadata": {},
   "outputs": [],
   "source": []
  },
  {
   "cell_type": "code",
   "execution_count": 56,
   "id": "d37a379e-49e6-4bda-886a-85007ac340a3",
   "metadata": {},
   "outputs": [],
   "source": [
    "# labels_path_output_IBSR_11 = './output/labels/output_IBSR_11/'\n",
    "# images_path_output_IBSR_11 = './output/images/output_IBSR_11/'\n",
    "\n",
    "# labels_output_IBSR_11 = glob(os.path.join(labels_path_output_IBSR_11, \"IBSR_**_seg\", \"*.nii\"), recursive=True)\n",
    "# images_output_IBSR_11 = glob(os.path.join(images_path_output_IBSR_11, \"IBSR_**\", \"*.nii\"), recursive=True)"
   ]
  },
  {
   "cell_type": "code",
   "execution_count": 57,
   "id": "0a2fb36c-606b-4e82-aaac-f779a8123e70",
   "metadata": {},
   "outputs": [],
   "source": [
    "# labels_output_IBSR_11"
   ]
  },
  {
   "cell_type": "code",
   "execution_count": 31,
   "id": "9d3858cc-8701-4069-8a6f-bc4c96926801",
   "metadata": {},
   "outputs": [],
   "source": [
    "# import nibabel as nib\n",
    "# import numpy as np\n",
    "# from skimage.util import view_as_windows\n",
    "# from scipy.ndimage import label\n",
    "\n",
    "# def extract_patches(image, patch_size):\n",
    "#     return view_as_windows(image, patch_size)\n",
    "\n",
    "# def compute_similarity(patch1, patch2):\n",
    "#     # Implement your similarity metric here\n",
    "#     # Example: Normalized Cross-Correlation\n",
    "#     return np.sum(patch1 * patch2) / (np.sqrt(np.sum(patch1 ** 2)) * np.sqrt(np.sum(patch2 ** 2)))\n",
    "\n",
    "# def non_local_fusion(image, labels, patch_size):\n",
    "#     # Extract patches from the image and labels\n",
    "#     image_patches = extract_patches(image, patch_size)\n",
    "#     label_patches = extract_patches(labels, patch_size)\n",
    "\n",
    "#     fused_labels = np.zeros_like(labels)\n",
    "\n",
    "#     for i in tqdm(range(image.shape[0])):\n",
    "#         for j in range(image.shape[1]):\n",
    "#             for k in range(image.shape[2]):\n",
    "#                 center_patch = image_patches[i, j, k]\n",
    "#                 center_label = label_patches[i, j, k]\n",
    "\n",
    "#                 # Accumulate the weighted sum\n",
    "#                 weighted_sum = 0.0\n",
    "#                 total_similarity = 0.0\n",
    "\n",
    "#                 for m in range(image_patches.shape[0]):\n",
    "#                     for n in range(image_patches.shape[1]):\n",
    "#                         for o in range(image_patches.shape[2]):\n",
    "#                             # Adjust indices based on the shape of image_patches\n",
    "#                             neighbor_patch = image_patches[m, n, o, :, :, :]\n",
    "#                             similarity = compute_similarity(center_patch, neighbor_patch)\n",
    "#                             weighted_sum += similarity * label_patches[m, n, o, :, :, :]\n",
    "#                             total_similarity += similarity\n",
    "\n",
    "#                 # Normalize and assign the mean result\n",
    "#                 if total_similarity > 0:\n",
    "#                     fused_labels[i, j, k] = np.mean(accumulated_labels, axis=0) / total_similarity\n",
    "\n",
    "#     return fused_labels\n",
    "\n"
   ]
  },
  {
   "cell_type": "code",
   "execution_count": 33,
   "id": "bd34ce1e-a528-485f-a285-52a95cdb9337",
   "metadata": {},
   "outputs": [],
   "source": [
    "# seg1 = NM.load_nifti(labels_output_IBSR_11[0])[0]\n",
    "# seg2 = NM.load_nifti(labels_output_IBSR_11[1])[0]\n",
    "\n",
    "# patch_size = (20, 20, 20)  # Adjust patch size based on your requirements\n",
    "\n",
    "# fused_labels = non_local_fusion(seg1, seg2, patch_size)\n",
    "\n",
    "# # # Extract patches from the image and labels\n",
    "# # image_patches = extract_patches(seg1, patch_size)\n",
    "# # # label_patches = extract_patches(labels, patch_size)\n",
    "\n",
    "# # print(image_patches.shape)"
   ]
  },
  {
   "cell_type": "code",
   "execution_count": null,
   "id": "f8bdd610-4589-401b-87bd-7f197bae252d",
   "metadata": {},
   "outputs": [],
   "source": []
  }
 ],
 "metadata": {
  "kernelspec": {
   "display_name": "Python 3 (ipykernel)",
   "language": "python",
   "name": "python3"
  },
  "language_info": {
   "codemirror_mode": {
    "name": "ipython",
    "version": 3
   },
   "file_extension": ".py",
   "mimetype": "text/x-python",
   "name": "python",
   "nbconvert_exporter": "python",
   "pygments_lexer": "ipython3",
   "version": "3.10.4"
  }
 },
 "nbformat": 4,
 "nbformat_minor": 5
}
